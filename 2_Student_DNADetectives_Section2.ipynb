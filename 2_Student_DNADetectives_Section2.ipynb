{
  "nbformat": 4,
  "nbformat_minor": 0,
  "metadata": {
    "colab": {
      "provenance": []
    },
    "kernelspec": {
      "name": "python3",
      "display_name": "Python 3"
    }
  },
  "cells": [
    {
      "cell_type": "markdown",
      "source": [
        "<font color=\"#de3023\"><h1><b>REMINDER MAKE A COPY OF THIS NOTEBOOK, DO NOT EDIT</b></h1></font>"
      ],
      "metadata": {
        "id": "WlMmQonw602X"
      }
    },
    {
      "cell_type": "markdown",
      "source": [
        "![](https://www.pennmedicine.org/news/-/media/images/pr%20news/news/2021/october/dna.ashx)"
      ],
      "metadata": {
        "id": "GRBjzFnVahQ6"
      }
    },
    {
      "cell_type": "markdown",
      "metadata": {
        "id": "LGwTkS-QBx_Y"
      },
      "source": [
        "# **Goals**\n",
        "In this notebook, you will:\n",
        "\n",
        "*   Learn how genomes are stored as data.\n",
        "*   Visualize the genomes using two tools - Multiple Sequence Alignment Viewer and UCSC Genome Browser.\n",
        "*   Understand how to read and parse a genome in python.\n",
        "*   Make your own discoveries about the SARS-CoV-2 genome.\n"
      ]
    },
    {
      "cell_type": "code",
      "metadata": {
        "id": "iaHyv543RXie",
        "colab": {
          "base_uri": "https://localhost:8080/"
        },
        "outputId": "458743e6-748b-4a55-f412-3db68c9902a5"
      },
      "source": [
        "#@title Run this cell to set up the environment { display-mode: \"form\" }\n",
        "!pip install Biopython\n",
        "from Bio import SeqIO\n",
        "import numpy as np\n",
        "import pandas as pd\n",
        "from collections import Counter\n",
        "\n",
        "# data_path = 'https://drive.google.com/uc?id=1PqupjbA0HYNs1fd1y6TAkkvZeMQ6kmK0'\n",
        "cov2_vs_rtg13 = './SARS_CoV_2_vs_RTG13.fasta'\n",
        "\n",
        "!wget -q --show-progress 'https://storage.googleapis.com/inspirit-ai-data-bucket-1/Data/AI%20Scholars/Sessions%206%20-%2010%20(Projects)/Project%20-%20DNA%20Detectives/SARS_CoV_2_vs_RTG13.fasta'"
      ],
      "execution_count": null,
      "outputs": [
        {
          "output_type": "stream",
          "name": "stdout",
          "text": [
            "Collecting Biopython\n",
            "  Downloading biopython-1.81-cp310-cp310-manylinux_2_17_x86_64.manylinux2014_x86_64.whl (3.1 MB)\n",
            "\u001b[2K     \u001b[90m━━━━━━━━━━━━━━━━━━━━━━━━━━━━━━━━━━━━━━━━\u001b[0m \u001b[32m3.1/3.1 MB\u001b[0m \u001b[31m10.3 MB/s\u001b[0m eta \u001b[36m0:00:00\u001b[0m\n",
            "\u001b[?25hRequirement already satisfied: numpy in /usr/local/lib/python3.10/dist-packages (from Biopython) (1.22.4)\n",
            "Installing collected packages: Biopython\n",
            "Successfully installed Biopython-1.81\n",
            "SARS_CoV_2_vs_RTG13 100%[===================>]  59.52K  --.-KB/s    in 0.001s  \n"
          ]
        }
      ]
    },
    {
      "cell_type": "markdown",
      "metadata": {
        "id": "2VImTS_eCLsz"
      },
      "source": [
        "# **Reading DNA Sequences** 📖"
      ]
    },
    {
      "cell_type": "markdown",
      "metadata": {
        "id": "elC3EPmuN46l"
      },
      "source": [
        "How do we actually read and interpret a genome? As we learned, genomes consist of A, T, C, and G (for DNA genomes), and A, U, C, and G (for RNA genomes). However, note that when you download a genome from a public database, it is always given in terms of A, T, C, and G, regardless of if it is an RNA or DNA genome. This is just to help standardize data structures and analysis pipelines.\n",
        "\n",
        "Collections of genomes are give in the form of files called `.fasta` files. We can read these files using a library called SeqIO from a collection of biology-related tools called BioPython.\n",
        "\n",
        "**Let's read in some sequences!**"
      ]
    },
    {
      "cell_type": "markdown",
      "metadata": {
        "id": "AVPNIsu3Q6dZ"
      },
      "source": [
        "### **Exercise: Reading DNA Sequences**\n",
        "\n",
        "We are going to read in two genomes:\n",
        "\n",
        "\n",
        "*   A [SARS-CoV-2 genome](https://www.ncbi.nlm.nih.gov/nuccore/NC_045512) from one of the first patients with COVID-19 in Wuhan.\n",
        "*   A bat coronavirus, known as [RTG13](https://www.ncbi.nlm.nih.gov/nuccore/MN996532)\n",
        "\n",
        "Use the form below to see what the genomes of the viruses look like as given in the `fasta` file.\n",
        "\n"
      ]
    },
    {
      "cell_type": "code",
      "metadata": {
        "id": "CM6ez1N_N4TT",
        "colab": {
          "base_uri": "https://localhost:8080/"
        },
        "outputId": "f85bdbbe-444e-4316-a0ba-8f261162b8f7"
      },
      "source": [
        "# This fasta file consists of 2 genomes.\n",
        "# First is of the first SARS-CoV-2 sequenced from Wuhan (NC_k43lj)\n",
        "# as well as the genome of the bat coronavirus that researchers believe\n",
        "# SARS-CoV-2 evolved from.\n",
        "sequences = [record for record in\n",
        "             SeqIO.parse(cov2_vs_rtg13,'fasta')]\n",
        "sequence_bat = np.array(sequences[0])\n",
        "sequence_cov2 = np.array(sequences[1])\n",
        "virus = 'SARS-CoV-2' #@param ['bat coronavirus (RTG13)', 'SARS-CoV-2']\n",
        "if virus=='SARS-CoV-2':\n",
        "  print(sequences[1])\n",
        "else:\n",
        "  print(sequences[0])"
      ],
      "execution_count": null,
      "outputs": [
        {
          "output_type": "stream",
          "name": "stdout",
          "text": [
            "ID: NC_045512.2\n",
            "Name: NC_045512.2\n",
            "Description: NC_045512.2 Severe acute respiratory syndrome coronavirus 2 isolate Wuhan-Hu-1, complete genome\n",
            "Number of features: 0\n",
            "Seq('ATTAAAGGTTTATACCTTCCCAGGTAACAAACCAACCAACTTTCGATCTCTTGT...AAA')\n"
          ]
        }
      ]
    },
    {
      "cell_type": "markdown",
      "metadata": {
        "id": "bipca0DXeJgd"
      },
      "source": [
        "### **Exercise: What do you think the symbol `-` in the RTG13 sequence means?**"
      ]
    },
    {
      "cell_type": "code",
      "metadata": {
        "id": "_TfH_S67J-kG",
        "cellView": "form",
        "colab": {
          "base_uri": "https://localhost:8080/"
        },
        "outputId": "5b6eb2da-a06c-4a11-bc23-538547616214"
      },
      "source": [
        "Response = '' #@param {type:\"string\"}\n",
        "print(\"The -'s stand for deletions. \")\n",
        "print(\"When we line up the two genomes against each other,\")\n",
        "print(\"sometimes there are gaps in the sequence, where DNA got deleted\")\n",
        "print(\"as the bat coronavirus slowly evolved to SARS-CoV-2.\")\n",
        "print(\"We will learn more about this in the BONUS colab if you are interested.\")"
      ],
      "execution_count": null,
      "outputs": [
        {
          "output_type": "stream",
          "name": "stdout",
          "text": [
            "The -'s stand for deletions. \n",
            "When we line up the two genomes against each other,\n",
            "sometimes there are gaps in the sequence, where DNA got deleted\n",
            "as the bat coronavirus slowly evolved to SARS-CoV-2.\n",
            "We will learn more about this in the BONUS colab if you are interested.\n"
          ]
        }
      ]
    },
    {
      "cell_type": "markdown",
      "metadata": {
        "id": "R1uvCAtaCNrK"
      },
      "source": [
        "# **Visualizing DNA Sequences** 🔎"
      ]
    },
    {
      "cell_type": "markdown",
      "metadata": {
        "id": "QXsmg9ilV3v7"
      },
      "source": [
        "There are many software packages available to visualize and browse genomes. Let's view these two genomes.\n",
        "1. Navigate to NCBI's [Multiple Sequence Alignment Viewer tool](https://www.ncbi.nlm.nih.gov/projects/msaviewer/?appname=ncbi_msav&openuploaddialog). Click Under \"Data Source\", click \"Text\".\n",
        "2. Open up `SARS_CoV_2_vs_RTG13.fasta` in the Colab filesystem and copy/paste the contents into the textbox on the NCBI website. Click \"upload\" and then \"close\" and wait for your data to be uploaded.\n",
        "3. Explore the data! Change the view on the \"coloring\" toolbar, and zoom in and out.\n",
        "\n",
        "You should be able to get something that looks like the image below.\n",
        "\n",
        "<a href=\"https://ibb.co/rx75s8j\"><img src=\"https://i.ibb.co/ZBLcm4j/Screen-Shot-2020-05-18-at-4-44-17-PM.png\" alt=\"Screen-Shot-2020-05-18-at-4-44-17-PM\" border=\"0\" /></a>\n",
        "### **Exercise: Answer the following about the genome visualization in MSA Viewer.**"
      ]
    },
    {
      "cell_type": "code",
      "metadata": {
        "id": "zqN9i6jiESeZ",
        "colab": {
          "base_uri": "https://localhost:8080/"
        },
        "outputId": "8596268c-f905-40b0-ce9d-1b23fb7afac2"
      },
      "source": [
        "#@title #### 1. What does the coloring mean?\n",
        "Response = 'diff bases' #@param {type:\"string\"}\n",
        "print(\"The identity of each base.\")"
      ],
      "execution_count": null,
      "outputs": [
        {
          "output_type": "stream",
          "name": "stdout",
          "text": [
            "The identity of each base.\n"
          ]
        }
      ]
    },
    {
      "cell_type": "code",
      "metadata": {
        "id": "CeneBD8kEaGL",
        "colab": {
          "base_uri": "https://localhost:8080/"
        },
        "outputId": "af2fd5d3-b3c9-49d5-9d1f-bb3da076a402"
      },
      "source": [
        "#@title #### 2. What does it mean when the two sequences have the same color vertical bar at the same location? Different colors?\n",
        "Response = '' #@param {type:\"string\"}\n",
        "print(\"Same color = same base, no mutations; Different colors = different base, mutation\")"
      ],
      "execution_count": null,
      "outputs": [
        {
          "output_type": "stream",
          "name": "stdout",
          "text": [
            "Same color = same base, no mutations; Different colors = different base, mutation\n"
          ]
        }
      ]
    },
    {
      "cell_type": "code",
      "metadata": {
        "id": "GtEtrCTlEbZ7",
        "cellView": "form",
        "colab": {
          "base_uri": "https://localhost:8080/"
        },
        "outputId": "18ac42cc-54bd-469d-ed41-aecb571deade"
      },
      "source": [
        "#@title #### 3. How similar would you say the two viruses are?\n",
        "Response = 'similar' #@param {type:\"string\"}\n",
        "print(\"They are very similar, nearly the same!\")"
      ],
      "execution_count": null,
      "outputs": [
        {
          "output_type": "stream",
          "name": "stdout",
          "text": [
            "They are very similar, nearly the same!\n"
          ]
        }
      ]
    },
    {
      "cell_type": "markdown",
      "metadata": {
        "id": "xuNdoW6Wdkcn"
      },
      "source": [
        "# **Parsing DNA Sequences** 📏\n",
        "We can parse sequences by treating them similar to strings!  It is easiest to convert each sequence to a numpy array of individual letters. Use the form below to view different segments (from positions `start` to `end`) of the SARS-CoV-2 and bat coronavirus genome.\n",
        "\n",
        "**Can you find regions where the two genomes are very different? Can you find regions where the two genomes are very similar?**"
      ]
    },
    {
      "cell_type": "code",
      "metadata": {
        "id": "QdfBpIdddjdu",
        "colab": {
          "base_uri": "https://localhost:8080/"
        },
        "outputId": "a6d549d7-7ff6-4bf6-9363-ab1049974f5c"
      },
      "source": [
        "sequence_bat = np.array(sequences[0])\n",
        "sequence_cov2 = np.array(sequences[1])\n",
        "start =  0#@param {type:\"integer\"}\n",
        "stop =  100#@param {type:\"integer\"}\n",
        "print(\"SARS-CoV-2:\")\n",
        "print(''.join(sequence_cov2[start:stop]))\n",
        "print(\"bat coronavirus:\")\n",
        "print(''.join(sequence_bat[start:stop]))\n",
        "print(sum(sequence_cov2[start:stop]!=sequence_bat[start:stop]),\n",
        "      \"bases differ.\")"
      ],
      "execution_count": null,
      "outputs": [
        {
          "output_type": "stream",
          "name": "stdout",
          "text": [
            "SARS-CoV-2:\n",
            "ATTAAAGGTTTATACCTTCCCAGGTAACAAACCAACCAACTTTCGATCTCTTGTAGATCTGTTCTCTAAACGAACTTTAAAATCTGTGTGGCTGTCACTC\n",
            "bat coronavirus:\n",
            "---------------CTTTCCAGGTAACAAACCAACGAACTCTCGATCTCTTGTAGATCTGTTCTCTAAACGAACTTTAAAATCTGTGTGACTGTCACTC\n",
            "19 bases differ.\n"
          ]
        }
      ]
    },
    {
      "cell_type": "markdown",
      "metadata": {
        "id": "p7Axa-6zebM0"
      },
      "source": [
        "### ✏️ **Exercise: Quantifying how similar the SARS-CoV-2 and the RTG13 bat coronavirus are.**\n",
        "Fill in the code below to perform the following.\n",
        "1. Print the total number of bases in SARS-CoV-2 genome (Hint: You need to ignore `-`s!)\n",
        "2. Print the number of bases (nucleotides) that differ between RTG13 and SARS-CoV-2.\n",
        "3. Print the percent similarity between RTG13 and SARS-CoV-2."
      ]
    },
    {
      "cell_type": "code",
      "metadata": {
        "id": "zLHxPLcTDSrA",
        "colab": {
          "base_uri": "https://localhost:8080/"
        },
        "outputId": "1f7d803b-6995-40c6-afed-cc53dc114c2e"
      },
      "source": [
        "# Extract sequences.\n",
        "sequence_bat = np.array(sequences[0])\n",
        "sequence_cov2 = np.array(sequences[1])\n",
        "\n",
        "# Compute length, number of different bases, and number of the same bases.\n",
        "length_cov2 = len(sequence_cov2) - sum(sequence_cov2=='-')        # Length of SARS-CoV-2 Genome.\n",
        "n_bases_different = sum(sequence_cov2 != sequence_bat)    # of bases differing between bat coronavirus and sars-cov-2.\n",
        "n_bases_same = sum(sequence_cov2 == sequence_bat)          # of bases the same between bat coronavirus and sars-cov-2.\n",
        "print(n_bases_same)\n",
        "\n",
        "print(\"1. Length of SARS-CoV-2 genome: \", length_cov2)\n",
        "print(\"2. Number of bases that differ: \", n_bases_different)\n",
        "print(\"3. Percent similarity: %\", 100*n_bases_same/length_cov2)"
      ],
      "execution_count": null,
      "outputs": [
        {
          "output_type": "stream",
          "name": "stdout",
          "text": [
            "28714\n",
            "1. Length of SARS-CoV-2 genome:  29903\n",
            "2. Number of bases that differ:  1189\n",
            "3. Percent similarity: % 96.02381032003478\n"
          ]
        }
      ]
    },
    {
      "cell_type": "markdown",
      "metadata": {
        "id": "-HxmkNA_fXRD"
      },
      "source": [
        "**Question: Now how similar do you think the two viruses are? Can you understand why scientists think SARS-CoV-2 originated from a bat?**"
      ]
    },
    {
      "cell_type": "markdown",
      "metadata": {
        "id": "0WEx_OUmfhfa"
      },
      "source": [
        "### ✏️ **Exercise: Print the percent of A, T, C, and G in the SARS-CoV-2 genome.**"
      ]
    },
    {
      "cell_type": "code",
      "metadata": {
        "id": "EZpshjY5Subh",
        "colab": {
          "base_uri": "https://localhost:8080/"
        },
        "outputId": "633fc250-a1b4-43aa-9eb0-8ffa35c42f08"
      },
      "source": [
        "num_A = sum(sequence_cov2=='A')\n",
        "num_T = sum(sequence_cov2=='T') # Number of 'T' bases.\n",
        "num_C = sum(sequence_cov2=='C') # Number of 'C' bases.\n",
        "num_G = sum(sequence_cov2=='G') # Number of 'G' bases.\n",
        "num_hypen = sum(sequence_cov2=='-')\n",
        "print(\"Percent A: %\", (100*num_A/length_cov2))\n",
        "print(\"Percent T: %\", (100*num_T/length_cov2))\n",
        "print(\"Percent C: %\", (100*num_C/length_cov2))\n",
        "print(\"Percent G: %\", (100*num_G/length_cov2))\n",
        "print(num_hypen)"
      ],
      "execution_count": null,
      "outputs": [
        {
          "output_type": "stream",
          "name": "stdout",
          "text": [
            "Percent A: % 29.943483931378122\n",
            "Percent T: % 32.083737417650404\n",
            "Percent C: % 18.366050229074006\n",
            "Percent G: % 19.60672842189747\n",
            "0\n"
          ]
        }
      ]
    },
    {
      "cell_type": "markdown",
      "metadata": {
        "id": "Q3Ij4SJsUIl7"
      },
      "source": [
        "**What do you notice about the percent of A/T/C/G?**  You can read more about G-C content [here](https://en.wikipedia.org/wiki/GC-content)."
      ]
    },
    {
      "cell_type": "markdown",
      "metadata": {
        "id": "8JQ9mGRzTIlh"
      },
      "source": [
        "### ✏️ **Exercise (BONUS): How many possible start codons does SARS-CoV-2 have? (ATG sequences)**"
      ]
    },
    {
      "cell_type": "code",
      "metadata": {
        "id": "A8Qt7WjUTXSo",
        "colab": {
          "base_uri": "https://localhost:8080/"
        },
        "outputId": "c435f7d2-f4c2-40ec-df4e-a7feff0e7ca6"
      },
      "source": [
        "n_start_codons = 0\n",
        "for i in range(0, len(sequence_cov2) - 3, 3):\n",
        "  codon = ''.join(sequence_cov2[i:i+3])\n",
        "  if codon == 'ATG':\n",
        "    n_start_codons += 1\n",
        "\n",
        "print(\"Number of possible ATG start codons: \", n_start_codons)"
      ],
      "execution_count": null,
      "outputs": [
        {
          "output_type": "stream",
          "name": "stdout",
          "text": [
            "Number of possible ATG start codons:  117\n"
          ]
        }
      ]
    },
    {
      "cell_type": "markdown",
      "metadata": {
        "id": "nYxwlnKxUQm4"
      },
      "source": [
        "**What do you notice about the number of start codons?** Even though SARS-CoV-2 has many possible start codons, it produces only around 10 canonical proteins!  You can read more about virus open reading frames [here](https://en.wikipedia.org/wiki/Reading_frame)\n"
      ]
    },
    {
      "cell_type": "markdown",
      "metadata": {
        "id": "wh4jxKAimBoG"
      },
      "source": [
        "# **More Exploring**\n"
      ]
    },
    {
      "cell_type": "markdown",
      "metadata": {
        "id": "YSLYmL1yjXFv"
      },
      "source": [
        "### **Exercise: Viewing SARS-CoV-2 in UCSC genome browser.**\n",
        "You can view an annotated version of the SARS-CoV-2 genome via the [UCSC genome browser](https://genome.ucsc.edu/cgi-bin/hgTracks?db=wuhCor1&lastVirtModeType=default&lastVirtModeExtraState=&virtModeType=default&virtMode=0&nonVirtPosition=&position=NC_045512v2%3A1%2D29903&hgsid=823607307_GTWpNMWmkRdDAUIlnTnE9U88LyB3). Play around for a few minutes. See if you can find the start codon that starts the S (spike) protein 1, ORF1a (non-structural proteins helping in replication), M (membrane) protein and the E (envelope) protein.\n",
        "\n",
        "<a href=\"https://ibb.co/tqhjsc5\"><img src=\"https://i.ibb.co/gS7qTwC/Screen-Shot-2020-05-18-at-5-31-48-PM.png\" alt=\"Screen-Shot-2020-05-18-at-5-31-48-PM\" border=\"0\"></a><br />\n"
      ]
    },
    {
      "cell_type": "markdown",
      "metadata": {
        "id": "Q83GtDwhVwFk"
      },
      "source": [
        "\n",
        "What other interesting features do you notice about the SARS-CoV-2 genome? You can use UCSC Genome Browser, MSA Viewer, or python!\n",
        "\n",
        "#### ✏️ **Exercise: List 3 interesting features you find**"
      ]
    },
    {
      "cell_type": "code",
      "metadata": {
        "id": "xZqyg1x2WYfo"
      },
      "source": [
        "### If you'd like to run some code, use this cell! #####"
      ],
      "execution_count": null,
      "outputs": []
    },
    {
      "cell_type": "code",
      "metadata": {
        "id": "-d6WkcqFUwCF"
      },
      "source": [
        "_1_ = '' #@param {type:\"string\"}\n",
        "_2_ = '' #@param {type:\"string\"}\n",
        "_3_ = '' #@param {type:\"string\"}"
      ],
      "execution_count": null,
      "outputs": []
    },
    {
      "cell_type": "markdown",
      "metadata": {
        "id": "dehhUVvXKWYX"
      },
      "source": [
        "# **Wrapping Up!**"
      ]
    },
    {
      "cell_type": "markdown",
      "metadata": {
        "id": "Kf9U7fdpr4bo"
      },
      "source": [
        "***Awesome!*** Digging through genomes for clues about nature is a daunting task. But if done right, we can learn some fascinating things about how organisms function without having to lift a single test tube!\n",
        "\n",
        "\n",
        "![](https://imgs.xkcd.com/comics/dna.png)"
      ]
    }
  ]
}
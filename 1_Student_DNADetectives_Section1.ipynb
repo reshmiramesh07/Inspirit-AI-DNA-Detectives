{
  "nbformat": 4,
  "nbformat_minor": 0,
  "metadata": {
    "colab": {
      "provenance": []
    },
    "kernelspec": {
      "name": "python3",
      "display_name": "Python 3"
    }
  },
  "cells": [
    {
      "cell_type": "markdown",
      "source": [
        "![](https://www.pennmedicine.org/news/-/media/images/pr%20news/news/2021/october/dna.ashx)"
      ],
      "metadata": {
        "id": "kcYscYifOUIW"
      }
    },
    {
      "cell_type": "markdown",
      "metadata": {
        "id": "XFYAV890_btm"
      },
      "source": [
        "# **Goals**\n",
        "In this notebook, you will:\n",
        "*   Brainstorm some ideas about how AI can help in the fight against COVID-19.\n",
        "*   Learn the basics of virus biology.\n",
        "*   Learn about genetic material, transcription, and translation.\n",
        "*   Learn how genetic material can mutate.\n",
        "*   Think deeply about the pros and cons of building models to predict where different SARS-CoV-2 lineages originated from.\n",
        "\n",
        "*Note: There is a bit of biology to learn before we dive into the machine learning part of this project. Be patient and please ask about anything you don't understand!*"
      ]
    },
    {
      "cell_type": "markdown",
      "metadata": {
        "id": "t09XQ0aZcUFT"
      },
      "source": [
        "# SARS-CoV-2\n",
        "\n",
        "<img src=\"https://sanjuancounty.colorado.gov/sites/sanjuancounty/files/styles/extra_large_thumbnail_650x650_/public/04-2020/coronavirus_banner.png\" alt=\"drawing\" width=\"1000\"/>\n",
        "\n",
        "SARS-CoV-2 is the virus that causes COVID-19 and is the cause of the worldwide pandemic.  \n",
        "\n",
        "\n"
      ]
    },
    {
      "cell_type": "code",
      "metadata": {
        "id": "P4RKuUQxV6_e"
      },
      "source": [
        "#@title Exercise: Brainstorm 3 ways that we can use AI in the fight against COVID-19.\n",
        "\n",
        "_1_ = 'detect origins' #@param {type:\"string\"}\n",
        "_2_ = 'differentiate people who are infected' #@param {type:\"string\"}\n",
        "_3_ = 'find the different symptoms' #@param {type:\"string\"}"
      ],
      "execution_count": null,
      "outputs": []
    },
    {
      "cell_type": "markdown",
      "metadata": {
        "id": "KLFjke7JVb5Z"
      },
      "source": [
        "SARS-CoV-2 is actively mutating, so by looking at the sequence of a specific SARS-CoV-2 virus we can actually predict which country a particular SARS-CoV-2 virus came from!\n",
        "\n",
        "***In this project, we are going to build a classifier that predicts which country a SARS-CoV-2 virus is coming from, so that we can identify where there may be outbreaks in the future.  We're going to talk more about that later.***"
      ]
    },
    {
      "cell_type": "markdown",
      "metadata": {
        "id": "x-w9c5KCeMhW"
      },
      "source": [
        "Viruses? Mutating? Sequence?\n",
        "\n",
        "<img src=\"https://live.staticflickr.com/8466/8393213472_24d08168b0_b.jpg\" alt=\"drawing\" width=\"500\"/>\n"
      ]
    },
    {
      "cell_type": "markdown",
      "metadata": {
        "id": "QujYqHPneehv"
      },
      "source": [
        "First, let's go over a little bit of virus biology.\n"
      ]
    },
    {
      "cell_type": "markdown",
      "metadata": {
        "id": "BCwvLXAY_DHo"
      },
      "source": [
        "# What is a virus?"
      ]
    },
    {
      "cell_type": "markdown",
      "metadata": {
        "id": "kxhMrMHt_qjt"
      },
      "source": [
        "\n",
        "A virus is a tiny, infectious particle that infects a host cell in order to reproduce.  Viruses take over the host cell and use its resources to make more viruses, basically reprogramming it to become a virus factory.\n",
        "\n",
        "Please take 10 minutes to read this [excellent Khan Academy](https://www.khanacademy.org/science/high-school-biology/hs-human-body-systems/hs-the-immune-system/a/intro-to-viruses) article on viruses.\n",
        "\n",
        "<img src=\"https://upload.wikimedia.org/wikipedia/commons/thumb/4/47/Basic_Scheme_of_Virus_en.svg/1280px-Basic_Scheme_of_Virus_en.svg.png\" alt=\"drawing\" width=\"400\"/>\n",
        "\n"
      ]
    },
    {
      "cell_type": "markdown",
      "metadata": {
        "id": "sUZmNJJsAMfR"
      },
      "source": [
        "### **Exercise: Answer the following questions about viruses. (Run cell for answers.)**"
      ]
    },
    {
      "cell_type": "code",
      "metadata": {
        "cellView": "form",
        "id": "PFX7Uo6EXFfp",
        "colab": {
          "base_uri": "https://localhost:8080/"
        },
        "outputId": "150ce43f-6d75-4350-fa90-0871077b8f39"
      },
      "source": [
        "#@title 1. True or False? Viruses can reproduce entirely on their own.\n",
        "Answer = \"False\" #@param [\"True\", \"False\"]\n",
        "print(\"Answer: False\")"
      ],
      "execution_count": null,
      "outputs": [
        {
          "output_type": "stream",
          "name": "stdout",
          "text": [
            "Answer: False\n"
          ]
        }
      ]
    },
    {
      "cell_type": "code",
      "metadata": {
        "id": "55xs4S2Dd6g0",
        "cellView": "form",
        "colab": {
          "base_uri": "https://localhost:8080/"
        },
        "outputId": "e399f274-a34f-4c5d-d1b3-532c4a3641ac"
      },
      "source": [
        "#@title 2. True or false? Viruses use the same genetic code that is used in living cells (DNA/RNA)\n",
        "Answer = \"True\" #@param [\"True\", \"False\"]\n",
        "print(\"Answer: True\")"
      ],
      "execution_count": null,
      "outputs": [
        {
          "output_type": "stream",
          "name": "stdout",
          "text": [
            "Answer: True\n"
          ]
        }
      ]
    },
    {
      "cell_type": "code",
      "metadata": {
        "id": "EFmUVrxq5WJ_",
        "cellView": "form",
        "colab": {
          "base_uri": "https://localhost:8080/"
        },
        "outputId": "e068c04c-9863-49a9-e50e-3d206334e4a2"
      },
      "source": [
        "#@title 3. What is the difference between viruses and bacteria?\n",
        "Answer = \"\" #@param {type:\"string\"}\n",
        "print(\"Although they both make us sick viruses and bacteria are very different.\")\n",
        "print(\"Bacteria are small and single-celled, but they are living organisms \")\n",
        "print(\"that do not depend on a host cell to reproduce. We can use antibiotics \")\n",
        "print(\"to fight bacteria, but we cannot use antibiotics on viruses.\")"
      ],
      "execution_count": null,
      "outputs": [
        {
          "output_type": "stream",
          "name": "stdout",
          "text": [
            "Although they both make us sick viruses and bacteria are very different.\n",
            "Bacteria are small and single-celled, but they are living organisms \n",
            "that do not depend on a host cell to reproduce. We can use antibiotics \n",
            "to fight bacteria, but we cannot use antibiotics on viruses.\n"
          ]
        }
      ]
    },
    {
      "cell_type": "code",
      "metadata": {
        "id": "S7_MCNhv6vQ1",
        "cellView": "form",
        "colab": {
          "base_uri": "https://localhost:8080/"
        },
        "outputId": "98d44183-4890-4888-b731-752b158b997c"
      },
      "source": [
        "#@title 4. What are 3 key features that almost all viruses have in common?\n",
        "Answer = \"capsid, genome, envelope\" #@param {type:\"string\"}\n",
        "print(\"Capsid, genome, and envelope.\")"
      ],
      "execution_count": null,
      "outputs": [
        {
          "output_type": "stream",
          "name": "stdout",
          "text": [
            "Capsid, genome, and envelope.\n"
          ]
        }
      ]
    },
    {
      "cell_type": "markdown",
      "metadata": {
        "id": "Ld6u_Lt4BUap"
      },
      "source": [
        "# What is a genome?"
      ]
    },
    {
      "cell_type": "markdown",
      "metadata": {
        "id": "83ALoA8VBZoR"
      },
      "source": [
        "A genome is the collection of DNA or RNA in an organism that codes for its various functions and processes.  DNA and RNA are slightly different forms of genetic material - genetic material ultimately tells an organism which proteins or enzymes to make. Proteins/enzymes are the molecular components that make all lifeforms function.  Read [this primer](https://www.khanacademy.org/science/high-school-biology/hs-molecular-genetics/hs-rna-and-protein-synthesis/a/intro-to-gene-expression-central-dogma) and [this primer](https://www.khanacademy.org/science/high-school-biology/hs-molecular-genetics/hs-rna-and-protein-synthesis/a/the-genetic-code) on genetic material and the central dogma for a review.\n",
        "\n",
        "<img src=\"https://upload.wikimedia.org/wikipedia/commons/thumb/5/5b/Central_dogma_of_molecular_biology.svg/1259px-Central_dogma_of_molecular_biology.svg.png\" alt=\"drawing\" width=\"300\"/>\n",
        "\n",
        "Although they need a host cell to help them actually convert DNA or RNA to proteins, viruses also have genomes.  SARS-CoV-2 has a genome made of RNA! This means the genome has some slightly different characteristics than DNA genomes (like those of humans), including some nuances in the transcription/translation cycle, a faster mutation rate, and the ability to swap parts of its genome with nearby viruses (called recombination). You can read more on the +ssRNA (positive-sense single-stranded RNA) virus [wikipedia page](https://en.wikipedia.org/wiki/Positive-sense_single-stranded_RNA_virus) if you are interested.\n",
        "\n",
        "\n",
        "Please answer the following questions:"
      ]
    },
    {
      "cell_type": "markdown",
      "metadata": {
        "id": "Xu34fBl47_fA"
      },
      "source": [
        "### **Exercise: Answer the following questions about genomes.**"
      ]
    },
    {
      "cell_type": "code",
      "metadata": {
        "id": "vPwrBZBu8Pov",
        "colab": {
          "base_uri": "https://localhost:8080/"
        },
        "outputId": "8bb21e74-35de-48f0-91f1-be8d0c46864a"
      },
      "source": [
        "#@title 1. What is a start-codon, and what is the specific sequence of start codon?\n",
        "Answer = \"AUG\" #@param {type:\"string\"}\n",
        "print(\"A start codon is the site at which translation begins.\")\n",
        "print(\"The universal start codon is AUG.\")\n"
      ],
      "execution_count": null,
      "outputs": [
        {
          "output_type": "stream",
          "name": "stdout",
          "text": [
            "A start codon is the site at which translation begins.\n",
            "The universal start codon is AUG.\n"
          ]
        }
      ]
    },
    {
      "cell_type": "code",
      "metadata": {
        "id": "PHuUFhue8XVU",
        "cellView": "form",
        "colab": {
          "base_uri": "https://localhost:8080/"
        },
        "outputId": "6a8dbae3-3d31-4ecf-cffc-32930ea2ec2d"
      },
      "source": [
        "#@title 2. How many nucleotides code for a single amino acid?\n",
        "Answer = \"3\"  #@param [1,2,3,5,20]\n",
        "print(3)"
      ],
      "execution_count": null,
      "outputs": [
        {
          "output_type": "stream",
          "name": "stdout",
          "text": [
            "3\n"
          ]
        }
      ]
    },
    {
      "cell_type": "code",
      "metadata": {
        "id": "AFN0IiR085QZ",
        "cellView": "form",
        "colab": {
          "base_uri": "https://localhost:8080/"
        },
        "outputId": "9a4dd5de-81a1-4be8-9175-0f6e0be71f4d"
      },
      "source": [
        "#@title 3. What are the 4 nucleic acids in DNA? How about in RNA?\n",
        "Answer = \"ATCG , AUCG\" #@param {type:\"string\"}\n",
        "print(\"Adenine (A), cytosine (C), guanine (G), thymine (T) for DNA.\")\n",
        "print(\"Adenine (A), cytosine (C), guanine (G), uracil (U) for RNA.\")"
      ],
      "execution_count": null,
      "outputs": [
        {
          "output_type": "stream",
          "name": "stdout",
          "text": [
            "Adenine (A), cytosine (C), guanine (G), thymine (T) for DNA.\n",
            "Adenine (A), cytosine (C), guanine (G), uracil (U) for RNA.\n"
          ]
        }
      ]
    },
    {
      "cell_type": "code",
      "metadata": {
        "id": "hio40QxH9E7S",
        "cellView": "form",
        "colab": {
          "base_uri": "https://localhost:8080/"
        },
        "outputId": "0349e2de-ea93-40e3-833c-abfaa2ca9909"
      },
      "source": [
        "#@title 4. (BONUS) Why do you think there are multiple possible codons for single amino acids? (ie CCA, CCU, CCG, CCC all code for Leucine)\n",
        "Answer = \"AAA\" #@param {type:\"string\"}\n",
        "print(\"Redundancy so that a single mutation in a DNA sequence does not change the amino acid it ultimately gets translated to.\")\n"
      ],
      "execution_count": null,
      "outputs": [
        {
          "output_type": "stream",
          "name": "stdout",
          "text": [
            "Redundancy so that a single mutation in a DNA sequence does not change the amino acid it ultimately gets translated to.\n"
          ]
        }
      ]
    },
    {
      "cell_type": "markdown",
      "metadata": {
        "id": "-Pcb8h2SILb6"
      },
      "source": [
        "# How do viruses mutate?\n",
        "\n",
        "Over time, virus genomes can mutate. Mutation can occur if during replication, a mistake is made in copying the RNA or DNA of a viral particle. Some types of viruses can also swap genetic material with nearby viral particles, a process called recombination.  Sometimes a mutation \"breaks\" a virus, and makes it unable to reproduce in which case the lineage of virus with that mutation will die off. Sometimes a mutation \"improves\" a virus, and makes it better and spreading or reproducing, in which case the mutation will probably stick around. Sometimes, mutations don't improve or break a virus and are just the result of random events.\n",
        "\n",
        "Here is an example of how the influenza virus has mutated/evolved in the last 100 years!\n",
        "![](https://live.staticflickr.com/7155/6830073073_9f847b8273_z.jpg)\n",
        "\n",
        "\n",
        "Over time, what started as a virus with one unique genome, may mutate into several different strains of virus. This happens all the time with the influenza virus (the flu), and is the reason we need to make a new flu vaccine every year. Different regions of the world may also end up with a different strain of a virus. You can read a little bit more about viral evolution [here](https://www.khanacademy.org/science/biology/biology-of-viruses/virus-biology/a/evolution-of-viruses).\n"
      ]
    },
    {
      "cell_type": "markdown",
      "metadata": {
        "id": "w-LA0glJKmit"
      },
      "source": [
        "# SARS-CoV-2 Evolution and Ethics\n",
        "\n",
        "Like most RNA viruses, SARS-CoV-2 is actively mutating, and there are thousands of different SARS-CoV-2 genomes (which we will refer to as *lineages* in the future) around the world. Researchers are constantly investigating if any of the genomes are more or less contagious or dangerous. Different variants have been discovered so far, including the B.1.1.7 (Alpha), B.1.351 (Beta), B.1.617.2 (Delta), and P.1 (Gamma) variants. These variants might flip certain nucleobases (A, U, C or G) to change the behavior of their spike proteins, or drop nucleobases in certain spots, referred to as a *deletion*. Mutations such as these may cause a variant to be more infectious or dangerous. You can read more information on [the CDC's website](https://www.cdc.gov/coronavirus/2019-ncov/variants/variant-classifications.html) about these \"Variants of Concern\".\n",
        "\n",
        "We can gain important knowledge by looking at the different SARS-CoV-2 genomes. Primarily, we can make a good guess as to what region of the world a specific SARS-CoV-2 lineage came from. In this project, **we will be building a model that will predict which region of the world a SARS-CoV-2 lineage comes from based on its genome sequence**. Before we get started, we should talk about the ethical implications of this."
      ]
    },
    {
      "cell_type": "markdown",
      "metadata": {
        "id": "Q10pWFmU92Fv"
      },
      "source": [
        "### **Exercise: Discuss the following questions.**\n",
        "*These will be important points to address in your presentation later on!*"
      ]
    },
    {
      "cell_type": "code",
      "metadata": {
        "id": "dY0_gtqb91nS",
        "cellView": "form"
      },
      "source": [
        "#@title 1. How could a model that predicts origin of a SARS-CoV-2 lineage help us with contact tracing and suppression?\n",
        "Response = \"\" #@param {type:\"string\"}\n",
        "print(\"Such a model could help us a) detect high-risk areas, b) identify the source of initial cases to close\")\n",
        "print(\"it off to prevent future infections, and c) help us better understand the transmission chain.\")"
      ],
      "execution_count": null,
      "outputs": []
    },
    {
      "cell_type": "code",
      "metadata": {
        "id": "xEDpveux-KUX",
        "cellView": "form"
      },
      "source": [
        "#@title 2. What could be some negative consequences of having such a model? What happens if the model is not 100% correct? (Most models are not perfect!)\n",
        "Response = \"\" #@param {type:\"string\"}\n",
        "print(\"The model could be inaccurate, which would lead to a false sense of security and a misallocation\")\n",
        "print(\"of already finite resources. Genomic data is also sensitive, so having such a model\")\n",
        "print(\"raises some ethical concerns about how our data could potentially be mishandled.\")\n",
        "print(\"There's lots of other potential negative consequences too!\")"
      ],
      "execution_count": null,
      "outputs": []
    },
    {
      "cell_type": "code",
      "metadata": {
        "id": "I-p3pIIJ-Kwa",
        "cellView": "form"
      },
      "source": [
        "#@title 3. What are some ways we could mitigate some of these negative consequences?\n",
        "_1_ = \"\" #@param {type:\"string\"}\n",
        "_2_ = \"\" #@param {type:\"string\"}\n",
        "_3_ = \"\" #@param {type:\"string\"}\n",
        "print(\"1. Ensure a stringent approval process to access genomic data and limit to just researchers\")\n",
        "print(\"2. Double-check all findings from the model with other intuitions and past genomic trends.\")\n",
        "print(\"3. Pass in more data into your model to improve its accuracy and limit overfitting.\")\n",
        "print(\"There's lots of other ways too!\")"
      ],
      "execution_count": null,
      "outputs": []
    },
    {
      "cell_type": "markdown",
      "metadata": {
        "id": "63nTJ0YxKRfU"
      },
      "source": [
        "# Wrapping up"
      ]
    },
    {
      "cell_type": "markdown",
      "metadata": {
        "id": "CCpBtAiarLtr"
      },
      "source": [
        "***Great job!*** That was a lot of biology that got thrown at you!\n",
        "\n",
        "![](https://i.chzbgr.com/full/1865001216/h896D6369/phew)\n",
        "\n"
      ]
    },
    {
      "cell_type": "code",
      "metadata": {
        "id": "yspnnjE-rj8g",
        "cellView": "form"
      },
      "source": [
        "#@title ####**Exercise: To wrap up, what are two questions you still have about virology/genomics? Ask your group/instructor!**\n",
        "Question_1 = \"\" #@param {type:\"string\"}\n",
        "Question_2 = \"\" #@param {type:\"string\"}\n"
      ],
      "execution_count": null,
      "outputs": []
    }
  ]
}
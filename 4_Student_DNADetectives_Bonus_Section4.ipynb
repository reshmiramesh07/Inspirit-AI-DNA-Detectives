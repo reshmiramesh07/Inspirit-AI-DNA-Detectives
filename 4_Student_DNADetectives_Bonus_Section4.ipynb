{
  "nbformat": 4,
  "nbformat_minor": 0,
  "metadata": {
    "colab": {
      "provenance": []
    },
    "kernelspec": {
      "name": "python3",
      "display_name": "Python 3"
    },
    "accelerator": "GPU"
  },
  "cells": [
    {
      "cell_type": "markdown",
      "metadata": {
        "id": "GfD7ztTp8MnM"
      },
      "source": [
        "<font color=\"#de3023\"><h1><b>REMINDER MAKE A COPY OF THIS NOTEBOOK, DO NOT EDIT</b></h1></font>"
      ]
    },
    {
      "cell_type": "markdown",
      "source": [
        "![](https://www.pennmedicine.org/news/-/media/images/pr%20news/news/2021/october/dna.ashx)"
      ],
      "metadata": {
        "id": "tlivykNOtw9n"
      }
    },
    {
      "cell_type": "markdown",
      "metadata": {
        "id": "QtjHts0etN7m"
      },
      "source": [
        "# Goals\n",
        "In this notebook, you will:\n",
        "\n",
        "*   Learn what feature reduction is and why it is important.\n",
        "*   Learn about Lasso (L1) normalization, one of the most common methods of feature reduction.\n",
        "*   Implement Lasso feature reduction into your own model and evaluate it.\n",
        "*   Identify important mutations that can be used as biomarkers in determining where SARS-CoV-2 samples came from.\n",
        "*  Learn the basics of Principal Components Analysis, a form of unsupervised learning, and apply it to your dataset.\n",
        "\n",
        "***Note: This notebook covers some advanced topics typically taught in college-level Machine Learning courses. Don't worry if you don't understand the nitty gritty parts of the math. It is more important you understand general concepts, such as why feature reduction is important. Don't hesitate to ask your instructor any questions that come up!***"
      ]
    },
    {
      "cell_type": "code",
      "metadata": {
        "id": "gGz8a54mb5qc",
        "cellView": "form",
        "colab": {
          "base_uri": "https://localhost:8080/"
        },
        "outputId": "b7b70cdb-2b2c-48c7-fdab-bfb532586ff7"
      },
      "source": [
        "#@title #### Set up the notebook\n",
        "!pip install Biopython\n",
        "from Bio import SeqIO\n",
        "import numpy as np\n",
        "import matplotlib.pyplot as plt\n",
        "import pandas as pd\n",
        "import tqdm\n",
        "import seaborn as sns\n",
        "from collections import Counter\n",
        "from sklearn import model_selection, linear_model\n",
        "from sklearn import decomposition\n",
        "from sklearn.preprocessing import StandardScaler\n",
        "from sklearn.pipeline import Pipeline\n",
        "from sklearn import preprocessing\n",
        "\n",
        "# data_path = 'https://drive.google.com/uc?id=1f1CtRwSohB7uaAypn8iA4oqdXlD_xXL1'\n",
        "# cov2_sequences = 'SARS_CoV_2_sequences_global.fasta'\n",
        "!wget -q --show-progress 'https://storage.googleapis.com/inspirit-ai-data-bucket-1/Data/AI%20Scholars/Sessions%206%20-%2010%20(Projects)/Project%20-%20DNA%20Detectives/SARS_CoV_2_sequences_global.fasta'\n",
        "cov2_sequences = 'SARS_CoV_2_sequences_global.fasta'\n",
        "\n"
      ],
      "execution_count": null,
      "outputs": [
        {
          "output_type": "stream",
          "name": "stdout",
          "text": [
            "Collecting Biopython\n",
            "  Downloading biopython-1.81-cp310-cp310-manylinux_2_17_x86_64.manylinux2014_x86_64.whl (3.1 MB)\n",
            "\u001b[2K     \u001b[90m━━━━━━━━━━━━━━━━━━━━━━━━━━━━━━━━━━━━━━━━\u001b[0m \u001b[32m3.1/3.1 MB\u001b[0m \u001b[31m7.6 MB/s\u001b[0m eta \u001b[36m0:00:00\u001b[0m\n",
            "\u001b[?25hRequirement already satisfied: numpy in /usr/local/lib/python3.10/dist-packages (from Biopython) (1.22.4)\n",
            "Installing collected packages: Biopython\n",
            "Successfully installed Biopython-1.81\n",
            "SARS_CoV_2_sequence 100%[===================>]  44.77M   215MB/s    in 0.2s    \n"
          ]
        }
      ]
    },
    {
      "cell_type": "code",
      "metadata": {
        "id": "9NxWdGoIQZUA",
        "colab": {
          "base_uri": "https://localhost:8080/"
        },
        "outputId": "f34e67ca-fe97-49e0-e73d-d84a893627a5"
      },
      "source": [
        "#@title #### Load data from previous notebook (can take several minutes)\n",
        "sequences = [r for r in SeqIO.parse(cov2_sequences, 'fasta')]\n",
        "# This can take a couple minutes!\n",
        "# Note: This can take a couple minutes to run!\n",
        "# but we can monitor our progress using the tqdm library\n",
        "mutation_df = pd.DataFrame()\n",
        "n_bases_in_seq = len(sequences[0])\n",
        "\n",
        "print(\"Creating feature matrix....\")\n",
        "\n",
        "feature_values_dict = {}\n",
        "# Iterate though all positions in this sequence.\n",
        "for location in (range(n_bases_in_seq)): # tqdm is a nice library that prints our progress.\n",
        "  bases_at_location = np.array([s[location] for s in sequences])\n",
        "  # If there are no mutations at this position, move on.\n",
        "  if len(set(bases_at_location))==1: continue # If\n",
        "  for base in ['A', 'T', 'G', 'C', '-']:\n",
        "    feature_values = (bases_at_location==base)\n",
        "\n",
        "    # Set the values of any base that equals 'N' to np.nan.\n",
        "    feature_values[bases_at_location=='N'\n",
        "                   ] = np.nan\n",
        "\n",
        "    # Convert from T/F to 0/1.\n",
        "    feature_values  = feature_values*1\n",
        "\n",
        "    # Make the column name look like <location>_<base> (1_A, 2_G, 3_A, etc.)\n",
        "    column_name = str(location) + '_' + base\n",
        "    #mutation_df[column_name] = feature_values\n",
        "    feature_values_dict[column_name] = feature_values\n",
        "mutation_df = pd.concat([mutation_df, pd.DataFrame(feature_values_dict)], axis = 1)\n",
        "\n",
        "print(\"Formatting labels....\")\n",
        "countries = [(s.description).split('|')[-1] for s in sequences]\n",
        "countries_to_regions_dict = {\n",
        "         'Australia': 'Oceania',\n",
        "         'China': 'Asia',\n",
        "         'Hong Kong': 'Asia',\n",
        "         'India': 'Asia',\n",
        "         'Nepal': 'Asia',\n",
        "         'South Korea': 'Asia',\n",
        "         'Sri Lanka': 'Asia',\n",
        "         'Taiwan': 'Asia',\n",
        "         'Thailand': 'Asia',\n",
        "         'USA': 'North America',\n",
        "         'Viet Nam': 'Asia'\n",
        "}\n",
        "regions = [countries_to_regions_dict[c] if c in\n",
        "           countries_to_regions_dict else 'NA' for c in countries]\n",
        "mutation_df['label'] = regions\n",
        "\n",
        "print(\"Balancing data labels....\")\n",
        "balanced_df = mutation_df.copy()\n",
        "balanced_df['label'] = regions\n",
        "balanced_df = balanced_df[balanced_df.label!='NA']\n",
        "balanced_df = balanced_df.drop_duplicates()\n",
        "samples_north_america = balanced_df[balanced_df.label== ####### FILL IN ####\n",
        "                                    'North America']\n",
        "samples_oceania = balanced_df[balanced_df.label== ##### FILL IN #########\n",
        "                              'Oceania']\n",
        "samples_asia = balanced_df[balanced_df.label== ##### FILL IN #######\n",
        "                           'Asia']\n",
        "\n",
        "# Number of samples we will use from each region.\n",
        "n = min(len(samples_north_america),\n",
        "        len(samples_oceania),\n",
        "        len(samples_asia))\n",
        "\n",
        "balanced_df = pd.concat([samples_north_america[:n],\n",
        "                    samples_asia[:n],\n",
        "                    samples_oceania[:n]])\n",
        "\n",
        "X = balanced_df.drop(columns = 'label')\n",
        "Y = balanced_df.label\n"
      ],
      "execution_count": null,
      "outputs": [
        {
          "output_type": "stream",
          "name": "stdout",
          "text": [
            "Creating feature matrix....\n",
            "Formatting labels....\n",
            "Balancing data labels....\n"
          ]
        }
      ]
    },
    {
      "cell_type": "code",
      "metadata": {
        "id": "qSbUyrhixFqr",
        "colab": {
          "base_uri": "https://localhost:8080/",
          "height": 109
        },
        "outputId": "e6484f33-236d-46bc-a91c-9571f2b06799"
      },
      "source": [
        "#@title #### Retrain previous model\n",
        "lm = linear_model.LogisticRegression(\n",
        "    multi_class=\"multinomial\", max_iter=1000,\n",
        "    fit_intercept=False, tol=0.001, solver='saga', random_state=42)\n",
        "\n",
        "# Split into training/testing set.\n",
        "X_train, X_test, Y_train, Y_test = model_selection.train_test_split(\n",
        "    X, Y, train_size=.8, random_state=42)\n",
        "\n",
        "# Train/fit model.\n",
        "lm.fit(X_train, Y_train)"
      ],
      "execution_count": null,
      "outputs": [
        {
          "output_type": "execute_result",
          "data": {
            "text/plain": [
              "LogisticRegression(fit_intercept=False, max_iter=1000,\n",
              "                   multi_class='multinomial', random_state=42, solver='saga',\n",
              "                   tol=0.001)"
            ],
            "text/html": [
              "<style>#sk-container-id-1 {color: black;background-color: white;}#sk-container-id-1 pre{padding: 0;}#sk-container-id-1 div.sk-toggleable {background-color: white;}#sk-container-id-1 label.sk-toggleable__label {cursor: pointer;display: block;width: 100%;margin-bottom: 0;padding: 0.3em;box-sizing: border-box;text-align: center;}#sk-container-id-1 label.sk-toggleable__label-arrow:before {content: \"▸\";float: left;margin-right: 0.25em;color: #696969;}#sk-container-id-1 label.sk-toggleable__label-arrow:hover:before {color: black;}#sk-container-id-1 div.sk-estimator:hover label.sk-toggleable__label-arrow:before {color: black;}#sk-container-id-1 div.sk-toggleable__content {max-height: 0;max-width: 0;overflow: hidden;text-align: left;background-color: #f0f8ff;}#sk-container-id-1 div.sk-toggleable__content pre {margin: 0.2em;color: black;border-radius: 0.25em;background-color: #f0f8ff;}#sk-container-id-1 input.sk-toggleable__control:checked~div.sk-toggleable__content {max-height: 200px;max-width: 100%;overflow: auto;}#sk-container-id-1 input.sk-toggleable__control:checked~label.sk-toggleable__label-arrow:before {content: \"▾\";}#sk-container-id-1 div.sk-estimator input.sk-toggleable__control:checked~label.sk-toggleable__label {background-color: #d4ebff;}#sk-container-id-1 div.sk-label input.sk-toggleable__control:checked~label.sk-toggleable__label {background-color: #d4ebff;}#sk-container-id-1 input.sk-hidden--visually {border: 0;clip: rect(1px 1px 1px 1px);clip: rect(1px, 1px, 1px, 1px);height: 1px;margin: -1px;overflow: hidden;padding: 0;position: absolute;width: 1px;}#sk-container-id-1 div.sk-estimator {font-family: monospace;background-color: #f0f8ff;border: 1px dotted black;border-radius: 0.25em;box-sizing: border-box;margin-bottom: 0.5em;}#sk-container-id-1 div.sk-estimator:hover {background-color: #d4ebff;}#sk-container-id-1 div.sk-parallel-item::after {content: \"\";width: 100%;border-bottom: 1px solid gray;flex-grow: 1;}#sk-container-id-1 div.sk-label:hover label.sk-toggleable__label {background-color: #d4ebff;}#sk-container-id-1 div.sk-serial::before {content: \"\";position: absolute;border-left: 1px solid gray;box-sizing: border-box;top: 0;bottom: 0;left: 50%;z-index: 0;}#sk-container-id-1 div.sk-serial {display: flex;flex-direction: column;align-items: center;background-color: white;padding-right: 0.2em;padding-left: 0.2em;position: relative;}#sk-container-id-1 div.sk-item {position: relative;z-index: 1;}#sk-container-id-1 div.sk-parallel {display: flex;align-items: stretch;justify-content: center;background-color: white;position: relative;}#sk-container-id-1 div.sk-item::before, #sk-container-id-1 div.sk-parallel-item::before {content: \"\";position: absolute;border-left: 1px solid gray;box-sizing: border-box;top: 0;bottom: 0;left: 50%;z-index: -1;}#sk-container-id-1 div.sk-parallel-item {display: flex;flex-direction: column;z-index: 1;position: relative;background-color: white;}#sk-container-id-1 div.sk-parallel-item:first-child::after {align-self: flex-end;width: 50%;}#sk-container-id-1 div.sk-parallel-item:last-child::after {align-self: flex-start;width: 50%;}#sk-container-id-1 div.sk-parallel-item:only-child::after {width: 0;}#sk-container-id-1 div.sk-dashed-wrapped {border: 1px dashed gray;margin: 0 0.4em 0.5em 0.4em;box-sizing: border-box;padding-bottom: 0.4em;background-color: white;}#sk-container-id-1 div.sk-label label {font-family: monospace;font-weight: bold;display: inline-block;line-height: 1.2em;}#sk-container-id-1 div.sk-label-container {text-align: center;}#sk-container-id-1 div.sk-container {/* jupyter's `normalize.less` sets `[hidden] { display: none; }` but bootstrap.min.css set `[hidden] { display: none !important; }` so we also need the `!important` here to be able to override the default hidden behavior on the sphinx rendered scikit-learn.org. See: https://github.com/scikit-learn/scikit-learn/issues/21755 */display: inline-block !important;position: relative;}#sk-container-id-1 div.sk-text-repr-fallback {display: none;}</style><div id=\"sk-container-id-1\" class=\"sk-top-container\"><div class=\"sk-text-repr-fallback\"><pre>LogisticRegression(fit_intercept=False, max_iter=1000,\n",
              "                   multi_class=&#x27;multinomial&#x27;, random_state=42, solver=&#x27;saga&#x27;,\n",
              "                   tol=0.001)</pre><b>In a Jupyter environment, please rerun this cell to show the HTML representation or trust the notebook. <br />On GitHub, the HTML representation is unable to render, please try loading this page with nbviewer.org.</b></div><div class=\"sk-container\" hidden><div class=\"sk-item\"><div class=\"sk-estimator sk-toggleable\"><input class=\"sk-toggleable__control sk-hidden--visually\" id=\"sk-estimator-id-1\" type=\"checkbox\" checked><label for=\"sk-estimator-id-1\" class=\"sk-toggleable__label sk-toggleable__label-arrow\">LogisticRegression</label><div class=\"sk-toggleable__content\"><pre>LogisticRegression(fit_intercept=False, max_iter=1000,\n",
              "                   multi_class=&#x27;multinomial&#x27;, random_state=42, solver=&#x27;saga&#x27;,\n",
              "                   tol=0.001)</pre></div></div></div></div></div>"
            ]
          },
          "metadata": {},
          "execution_count": 3
        }
      ]
    },
    {
      "cell_type": "code",
      "metadata": {
        "id": "e07LXV0VWrH9",
        "colab": {
          "base_uri": "https://localhost:8080/"
        },
        "outputId": "d5de3ba3-3422-489a-dcd5-72d035247bfa"
      },
      "source": [
        "lm.classes_"
      ],
      "execution_count": null,
      "outputs": [
        {
          "output_type": "execute_result",
          "data": {
            "text/plain": [
              "array(['Asia', 'North America', 'Oceania'], dtype=object)"
            ]
          },
          "metadata": {},
          "execution_count": 4
        }
      ]
    },
    {
      "cell_type": "code",
      "metadata": {
        "id": "TQCICjTZXF-s",
        "colab": {
          "base_uri": "https://localhost:8080/"
        },
        "outputId": "a1257ddd-b736-499e-ab6f-6d39214fdc8b"
      },
      "source": [
        "lm.predict_proba(X_test)"
      ],
      "execution_count": null,
      "outputs": [
        {
          "output_type": "execute_result",
          "data": {
            "text/plain": [
              "array([[2.00190042e-02, 5.78164492e-05, 9.79923179e-01],\n",
              "       [6.36392744e-01, 5.37537752e-03, 3.58231878e-01],\n",
              "       [3.58715302e-02, 2.77605484e-03, 9.61352415e-01],\n",
              "       [2.04446882e-02, 7.18275182e-04, 9.78837037e-01],\n",
              "       [2.14361468e-02, 9.75928846e-01, 2.63500711e-03],\n",
              "       [4.24861078e-01, 3.63320092e-03, 5.71505721e-01],\n",
              "       [6.91206609e-01, 3.04936214e-01, 3.85717709e-03],\n",
              "       [6.20528636e-05, 9.99936399e-01, 1.54836961e-06],\n",
              "       [5.04978446e-01, 1.03412549e-01, 3.91609004e-01],\n",
              "       [3.74396691e-01, 1.08125308e-02, 6.14790778e-01],\n",
              "       [9.21338554e-01, 7.75890041e-02, 1.07244230e-03],\n",
              "       [3.22313406e-02, 9.58266114e-01, 9.50254490e-03],\n",
              "       [9.98483543e-01, 1.21575196e-03, 3.00704680e-04],\n",
              "       [4.87368767e-02, 2.18912921e-02, 9.29371831e-01],\n",
              "       [2.91216638e-02, 9.68273155e-01, 2.60518094e-03],\n",
              "       [9.77812675e-01, 2.21262324e-02, 6.10927651e-05],\n",
              "       [9.83460558e-01, 1.64421045e-02, 9.73375326e-05],\n",
              "       [1.45087176e-03, 1.07830797e-01, 8.90718331e-01],\n",
              "       [4.55825361e-03, 4.00615848e-02, 9.55380162e-01],\n",
              "       [9.70594258e-01, 2.86533604e-02, 7.52381514e-04],\n",
              "       [9.04218375e-03, 9.90558825e-01, 3.98991162e-04],\n",
              "       [2.79292508e-04, 9.99718081e-01, 2.62697714e-06],\n",
              "       [8.07876353e-01, 4.39182427e-02, 1.48205404e-01],\n",
              "       [6.57101739e-03, 9.93224829e-01, 2.04153963e-04],\n",
              "       [6.11010875e-04, 9.93792494e-01, 5.59649544e-03],\n",
              "       [3.62911244e-04, 9.99597201e-01, 3.98875316e-05],\n",
              "       [9.86173756e-01, 1.36624443e-02, 1.63800096e-04],\n",
              "       [1.79447149e-01, 7.95289431e-04, 8.19757562e-01],\n",
              "       [6.40171693e-02, 9.33678351e-01, 2.30448001e-03],\n",
              "       [7.86444543e-03, 5.89777967e-05, 9.92076577e-01],\n",
              "       [3.96138371e-04, 9.99588510e-01, 1.53511922e-05],\n",
              "       [5.70863468e-03, 9.94076999e-01, 2.14366532e-04],\n",
              "       [4.92322708e-03, 1.53332362e-05, 9.95061440e-01],\n",
              "       [4.97929210e-03, 9.94925611e-01, 9.50969459e-05],\n",
              "       [9.84459201e-01, 1.50847982e-02, 4.56000808e-04],\n",
              "       [3.67330250e-03, 1.29438926e-04, 9.96197259e-01],\n",
              "       [6.57986027e-01, 3.48329565e-02, 3.07181016e-01],\n",
              "       [3.57791936e-02, 9.63573173e-01, 6.47632934e-04],\n",
              "       [2.96076317e-02, 6.44772964e-03, 9.63944639e-01],\n",
              "       [2.01581454e-03, 9.07787720e-05, 9.97893407e-01],\n",
              "       [6.12848764e-04, 9.99369610e-01, 1.75407944e-05],\n",
              "       [8.29114376e-02, 9.13383641e-01, 3.70492170e-03],\n",
              "       [8.96576329e-05, 9.99570858e-01, 3.39484601e-04],\n",
              "       [8.58961663e-01, 1.37592054e-01, 3.44628233e-03],\n",
              "       [9.81418371e-01, 1.79886709e-02, 5.92957780e-04],\n",
              "       [2.53903682e-02, 9.67571203e-01, 7.03842908e-03],\n",
              "       [4.04197938e-01, 5.93050584e-01, 2.75147801e-03],\n",
              "       [1.27806536e-02, 9.85580550e-01, 1.63879662e-03],\n",
              "       [4.51512660e-03, 9.95439065e-01, 4.58081571e-05],\n",
              "       [2.94091479e-02, 9.67537808e-01, 3.05304452e-03],\n",
              "       [6.87477662e-01, 3.09907124e-01, 2.61521358e-03],\n",
              "       [3.68181325e-02, 9.40955141e-01, 2.22267260e-02],\n",
              "       [1.74809018e-02, 2.09451428e-04, 9.82309647e-01],\n",
              "       [9.63863983e-01, 9.50567006e-03, 2.66303465e-02],\n",
              "       [3.75327223e-03, 9.95742321e-01, 5.04406769e-04],\n",
              "       [1.67927167e-03, 8.35795065e-05, 9.98237149e-01],\n",
              "       [8.39581003e-01, 1.55996102e-01, 4.42289540e-03],\n",
              "       [4.70935905e-02, 9.04323231e-01, 4.85831788e-02],\n",
              "       [3.38595610e-02, 9.56541029e-01, 9.59940997e-03],\n",
              "       [9.75454288e-01, 2.45177323e-02, 2.79793942e-05],\n",
              "       [1.27429222e-02, 9.86798947e-01, 4.58130737e-04],\n",
              "       [6.58977848e-01, 3.37323946e-01, 3.69820584e-03],\n",
              "       [6.75637243e-04, 9.99225414e-01, 9.89487810e-05],\n",
              "       [5.11420432e-02, 8.49736932e-04, 9.48008220e-01],\n",
              "       [7.63804692e-01, 6.08844574e-04, 2.35586464e-01],\n",
              "       [9.57862142e-01, 1.71789389e-04, 4.19660684e-02],\n",
              "       [3.03526325e-02, 1.24462341e-04, 9.69522905e-01],\n",
              "       [1.40876571e-02, 9.85333265e-01, 5.79077855e-04],\n",
              "       [1.74106613e-02, 8.37154863e-04, 9.81752184e-01],\n",
              "       [1.83827795e-03, 8.97150216e-01, 1.01011506e-01],\n",
              "       [6.77957986e-03, 9.92037822e-01, 1.18259806e-03],\n",
              "       [9.81930910e-01, 1.74851310e-02, 5.83959303e-04],\n",
              "       [7.57788117e-04, 9.99223088e-01, 1.91236941e-05],\n",
              "       [1.88485478e-01, 2.78999448e-02, 7.83614577e-01],\n",
              "       [5.63792316e-01, 4.35243017e-01, 9.64666329e-04],\n",
              "       [9.65415907e-01, 1.81491964e-04, 3.44026008e-02],\n",
              "       [5.97330439e-03, 9.93829541e-01, 1.97154969e-04]])"
            ]
          },
          "metadata": {},
          "execution_count": 5
        }
      ]
    },
    {
      "cell_type": "markdown",
      "metadata": {
        "id": "nOU4_ARYQhcn"
      },
      "source": [
        "# **Feature-reduced Models**\n",
        "\n",
        "Even in regular logistic regression, features may or may not get used in a model. Recall the equation logistic regression is fitting:\n",
        "\n",
        "$\n",
        "Y = H(\\beta_1 x_1 + \\beta_2 x_2 + \\beta_3 x_3 + ...)\n",
        "$\n",
        "\n",
        "After training, if any $\\beta$'s equal 0, that means the corresponding $x$ feature *did not get used in the model*.  ***The number of features used in the model equals the number of non-zero coefficients ($\\beta$).***\n",
        "\n",
        "We can access the values of the coefficients after training with ```lm.coef_[0]```."
      ]
    },
    {
      "cell_type": "markdown",
      "metadata": {
        "id": "63vx9XE2Rixz"
      },
      "source": [
        "### **Exercise: Recall your previous model. How many *features* did we use in the model?**"
      ]
    },
    {
      "cell_type": "code",
      "metadata": {
        "id": "eGY3pqIEzXwM",
        "colab": {
          "base_uri": "https://localhost:8080/"
        },
        "outputId": "22d56ca5-9939-41c0-d4f8-258fdfcf4bbe"
      },
      "source": [
        "coefficients = lm.coef_[0]\n",
        "n_possible_features = len(coefficients)\n",
        "n_features_used = sum(coefficients != 0)\n",
        "print(\"The original logistic regression model used %i out of a possible %i features\" %\n",
        "      (n_features_used, n_possible_features))"
      ],
      "execution_count": null,
      "outputs": [
        {
          "output_type": "stream",
          "name": "stdout",
          "text": [
            "The original logistic regression model used 4377 out of a possible 12680 features\n"
          ]
        }
      ]
    },
    {
      "cell_type": "markdown",
      "metadata": {
        "id": "P0kDZ4D3z0jh"
      },
      "source": [
        "Thousands of features is a lot of features! In feature-reduced models, we penalize the model for having more features. Hopefully then the model will pick only a few very important features to use."
      ]
    },
    {
      "cell_type": "code",
      "metadata": {
        "id": "cmHdTsxxuA3g",
        "colab": {
          "base_uri": "https://localhost:8080/"
        },
        "outputId": "dc6fe05a-014c-4635-c13b-3adda3d0dcbf"
      },
      "source": [
        "#@title ### **Exercise: Why might we want to try to *reduce* the number of features we use in a model?**\n",
        "_1_ = \"meow\" #@param {type:\"string\"}\n",
        "_2_ = \"meow\" #@param {type:\"string\"}\n",
        "\n",
        "print(\"1. To prevent overfitting. Especially in models with more features than samples, \")\n",
        "print(\"we can end up overfitting on the training set.\\n\")\n",
        "print(\"2. In order to determine which features are the most important.\")\n",
        "print(\"In the case of SARS-CoV-2, we can use the important features as \")\n",
        "print(\"biomarkers to determine which lineage came from which region.\")"
      ],
      "execution_count": null,
      "outputs": [
        {
          "output_type": "stream",
          "name": "stdout",
          "text": [
            "1. To prevent overfitting. Especially in models with more features than samples, \n",
            "we can end up overfitting on the training set.\n",
            "\n",
            "2. In order to determine which features are the most important.\n",
            "In the case of SARS-CoV-2, we can use the important features as \n",
            "biomarkers to determine which lineage came from which region.\n"
          ]
        }
      ]
    },
    {
      "cell_type": "markdown",
      "metadata": {
        "id": "6YFlWINj4fJD"
      },
      "source": [
        "### **Exercise: Compute training and testing accuracy to see if your original model was overfitting.**.\n",
        "\n",
        "What does it mean if you're training accuracy is significantly higher than your testing accuracy?"
      ]
    },
    {
      "cell_type": "code",
      "metadata": {
        "id": "o_7GSGAj6BSI",
        "colab": {
          "base_uri": "https://localhost:8080/"
        },
        "outputId": "99c1c7d9-5a1a-4bb2-87e1-469e415e0f51"
      },
      "source": [
        "# Note that we have already loaded lm, X_test, X_train, Y_train, and Y_test for you!\n",
        "Y_pred_train = lm.predict(X_train)\n",
        "Y_pred_test = lm.predict(X_test)\n",
        "\n",
        "training_accuracy = (np.mean(Y_train==Y_pred_train))*100\n",
        "testing_accuracy = (np.mean(Y_test==Y_pred_test))*100\n",
        "print(\"Training accuracy: %\", training_accuracy)\n",
        "print(\"Testing accuracy: %\", testing_accuracy)"
      ],
      "execution_count": null,
      "outputs": [
        {
          "output_type": "stream",
          "name": "stdout",
          "text": [
            "Training accuracy: % 99.3485342019544\n",
            "Testing accuracy: % 90.9090909090909\n"
          ]
        }
      ]
    },
    {
      "cell_type": "markdown",
      "metadata": {
        "id": "SuONTGFVSy_t"
      },
      "source": [
        "## **The Lasso**\n",
        "\n",
        "![alt text](https://pngimg.com/uploads/wonder_woman/wonder_woman_PNG30.png)\n",
        "\n",
        "\n",
        "One way of reducing the feature space is to use a **Lasso** (or L1) penalty.\n",
        "\n",
        "If a logistic regression model takes the form of\n",
        "\n",
        "$\n",
        "Y = H(\\beta_1 x_1 + \\beta_2 x_2 + \\beta_3 x_3 + ...)\n",
        "$\n",
        "\n",
        "Then a lasso penalty enforces a penalty that aims to make as many $\\beta$ terms equal zero. After this penalty, the $x$ features that correspond to the non-zero $\\beta$ terms left will be the most 'important' features in your model.\n",
        "\n",
        "If you're interested in the math, we implement this by using a cost/loss function:\n",
        "\n",
        "$\n",
        "Loss = Cost(X, Y, \\beta) + \\lambda \\sum_{i}|\\beta_i|\n",
        "$\n",
        "\n",
        "Different values of $\\lambda$ will make the model force more or less of the coefficients ($\\beta$ values) to 0.\n",
        "\n",
        "You can learn more [here](https://towardsdatascience.com/over-fitting-and-regularization-64d16100f45c) and [here](https://towardsdatascience.com/l1-and-l2-regularization-methods-ce25e7fc831c)."
      ]
    },
    {
      "cell_type": "markdown",
      "metadata": {
        "id": "T1MdTbR3Wp8v"
      },
      "source": [
        "### Build a Lasso-Penalized Model\n",
        "The ```linear_model.LogisticRegression``` class has an easy way to add in a Lasso penalty.\n",
        "\n",
        "Add an argument ```penalty='l1'``` to tell the model to use a lasso penalty when training. Add an argument ```C=1/lam``` and pick a different value of ```lam``` to enforce a bigger or smaller penalty on the model for using coefficients.\n",
        "\n",
        "```\n",
        "l1m = linear_model.LogisticRegression(\n",
        "    multi_class=\"multinomial\", max_iter=1000,\n",
        "    fit_intercept=False, tol=0.001, C=c,\n",
        "    penalty='l1', solver='saga', random_state=42)\n",
        "```"
      ]
    },
    {
      "cell_type": "markdown",
      "metadata": {
        "id": "UIpgjWh07jzU"
      },
      "source": [
        "### **Exercise: Investigate how different values of $\\lambda$ affect the number of features in a model and its accuracy.**\n"
      ]
    },
    {
      "cell_type": "code",
      "metadata": {
        "id": "pJPciLyhXMPt",
        "colab": {
          "base_uri": "https://localhost:8080/"
        },
        "outputId": "295b4623-2ee2-4903-a207-870f04d725cf"
      },
      "source": [
        "lam = 0.8 #@param {type:\"slider\", min:0, max:1, step:0.1}\n",
        "l1m = linear_model.LogisticRegression(\n",
        "    multi_class=\"multinomial\", max_iter=1000,\n",
        "    fit_intercept=False, tol=0.001, C=1/lam,\n",
        "    penalty='l1', solver='saga', random_state=42)\n",
        "l1m.fit(X_train, Y_train)\n",
        "print(\"Using lambda=\", lam)\n",
        "print(\"Lasso Training accuracy:\", np.mean(Y_train==l1m.predict(X_train)))\n",
        "print(\"Lasso Testing accuracy:\", np.mean(Y_test==l1m.predict(X_test)))\n",
        "print(\"Number of non-zero coefficients in lasso model:\", sum(l1m.coef_[0]!=0))"
      ],
      "execution_count": null,
      "outputs": [
        {
          "output_type": "stream",
          "name": "stdout",
          "text": [
            "Using lambda= 0.8\n",
            "Lasso Training accuracy: 0.9674267100977199\n",
            "Lasso Testing accuracy: 0.9090909090909091\n",
            "Number of non-zero coefficients in lasso model: 113\n"
          ]
        }
      ]
    },
    {
      "cell_type": "markdown",
      "metadata": {
        "id": "l-svMNftaIxl"
      },
      "source": [
        "## **Cross Validation**\n",
        "\n",
        "We can use a method called cross validation to decide what the best value of $\\lambda$ is. In cross validation, we split the training set into a training and validation set. We train the model using different values of $\\lambda$ (or $C$) and evaluate the accuracy using the training set. We do this using $K$ different iterations of testing/validation split. Then we choose the value of $\\lambda$ that has the best average accuracy for the final output of the training. K-fold cross validation is also better for evaluating a model's accuracy, since every sample in the dataset will be part of the training and testing set at some iteration in the k-fold cross validation process.\n",
        "\n",
        "<img src=\"https://upload.wikimedia.org/wikipedia/commons/thumb/b/b5/K-fold_cross_validation_EN.svg/1280px-K-fold_cross_validation_EN.svg.png\" alt=\"drawing\" width=\"500\"/>\n",
        "\n",
        "Instead of specifying ```C=1/lam``` in our arguments to the ```LogisticRegression``` class, we can use ```LogisticRegressionCV``` class the argument ```cv=``` and set the number of C (or 1/$\\lambda$) values we wish for the model to go through.\n",
        "\n",
        "```\n",
        "lm_cv = linear_model.LogisticRegressionCV(\n",
        "    multi_class=\"multinomial\", max_iter=1000,\n",
        "    fit_intercept=False, tol=0.001,\n",
        "    solver='saga', random_state=42,\n",
        "    Cs=3, penalty='l1')\n",
        "```"
      ]
    },
    {
      "cell_type": "markdown",
      "metadata": {
        "id": "aH71Q9ax8uao"
      },
      "source": [
        "### **Exercise: Implement cross-validation to the logistic regression model and compute accuracy.**\n",
        "\n",
        "Note: Sometimes you can get unlucky with the randomly selected validation sets, and cross validation won't improve your model. **Note that this will take several minutes.**"
      ]
    },
    {
      "cell_type": "code",
      "metadata": {
        "id": "QPBQtSOD92wG",
        "colab": {
          "base_uri": "https://localhost:8080/"
        },
        "outputId": "8295fd1c-9920-4608-e8ca-d6dee209dc96"
      },
      "source": [
        "lm_cv = linear_model.LogisticRegressionCV(\n",
        "    multi_class=\"multinomial\", max_iter=1000,\n",
        "    fit_intercept=False, tol=0.001,\n",
        "    solver='saga', random_state=42, refit=False,\n",
        "    Cs=5, penalty='l1'\n",
        "    )\n",
        "\n",
        "lm_cv.fit(X_train, Y_train)\n",
        "print(\"Training accuracy:\", np.mean(Y_train==lm_cv.predict(X_train)))\n",
        "print(\"Testing accuracy:\", np.mean(Y_test==lm_cv.predict(X_test)))\n",
        "print(\"Number of non-zero coefficients in lasso model:\", sum(lm_cv.coef_[0]!=0))\n",
        "print(\"Lambda decided on by cross validation:\", 1/lm_cv.C_[0])"
      ],
      "execution_count": null,
      "outputs": [
        {
          "output_type": "stream",
          "name": "stdout",
          "text": [
            "Training accuracy: 0.9576547231270358\n",
            "Testing accuracy: 0.9090909090909091\n",
            "Number of non-zero coefficients in lasso model: 3638\n",
            "Lambda decided on by cross validation: 0.04807692307692307\n"
          ]
        }
      ]
    },
    {
      "cell_type": "markdown",
      "metadata": {
        "id": "_tnwUWuRQvZF"
      },
      "source": [
        "# **Bonus Section: Unsupervised Learning**\n",
        "\n",
        "Although we have focused on supervised machine learning in this class, biology and genomics often uses a lot of unsupervised learning.\n",
        "\n",
        "Unsupervised learning is another way to reduce the number of features in a dataset. Instead of throwing out features, we create new features that are linear combinations of the original features.\n",
        "\n",
        "<img src=\"https://www.researchgate.net/publication/351953193/figure/fig3/AS:11431281117150742@1675395484096/Supervised-and-unsupervised-machine-learning-a-Schematic-representation-of-an.png\" alt=\"drawing\" width=\"500\"/>\n",
        "\n",
        "For example, say we have a dataset with features ```arm length```, ```leg length```, ```sprint speed```, and ```mile speed```.\n",
        "\n",
        "|Name |Arm Length |Leg Length | Sprint Speed| Km Speed|\n",
        "|--|--|--|--|--|\n",
        "|Jocelyn|89cm|104cm|30kph|20kph|\n",
        "|Aisha|99cm |120cm|29kph|19kph|\n",
        "|Su Lin| 90cm|106cm|26kph|18kph|\n",
        "|Marissa|100cm|122cm|29kph|20kph|\n",
        "\n",
        "Principal component analysis (PCA) is a method that allows us to find linear combinations of features that spreads the data furthest apart on a lower dimensional grid.\n",
        "\n",
        "If we used PCA to reduce the feature space into 2 features (instead of 4), PCA might tell us that the best new features to use would be:\n",
        "\n",
        "|Name |Arm + Leg Length |Sprint Speed + Km Speed|\n",
        "|--|--|--|\n",
        "|Jocelyn|193cm|50kph\n",
        "|Aisha|219cm|48kph|\n",
        "|Su Lin|196cm|44kph|\n",
        "|Marissa|222cm|39kph|\n",
        "\n"
      ]
    },
    {
      "cell_type": "markdown",
      "metadata": {
        "id": "TzChRtUkEMsD"
      },
      "source": [
        "Read [this article](https://towardsdatascience.com/a-one-stop-shop-for-principal-component-analysis-5582fb7e0a9c) and play around with the widget to learn more about PCA!\n",
        "\n",
        "\n",
        "In biology, we normally use unsupervised learning as a way to visualize data that is high-dimensional (large # of features) in a 2-dimensional grid. We can then look for data points that are grouped together, and make a hypothesis that those datapoints have similar biological properties."
      ]
    },
    {
      "cell_type": "markdown",
      "metadata": {
        "id": "gd2V_Ms9Ejfo"
      },
      "source": [
        "## Visualize your data in principle component space\n",
        "\n",
        "We can use ```sklearn```'s ```decomposition.PCA``` class to compute the principle components of a dataset and visualize it."
      ]
    },
    {
      "cell_type": "code",
      "metadata": {
        "id": "-0Ha3p29e_Mj",
        "cellView": "form",
        "colab": {
          "base_uri": "https://localhost:8080/",
          "height": 470
        },
        "outputId": "c76f4e33-d0e9-4e85-d670-175e74973fbb"
      },
      "source": [
        "#@title ### **Exercise: Run the following to visualize our X dataset in principal component space.**\n",
        "data = mutation_df#[variant_df.regions=='USA']\n",
        "pca = decomposition.PCA(n_components=2)\n",
        "pca.fit(X)\n",
        "df = pd.DataFrame()\n",
        "df['Principal Component 1'] = [pc[0] for pc in pca.transform(X)]\n",
        "df['Principal Component 2'] = [pc[1] for pc in pca.transform(X)]\n",
        "plt.figure(figsize=(5,5))\n",
        "sns.scatterplot(data=df, x='Principal Component 1', y='Principal Component 2')\n",
        "plt.show()"
      ],
      "execution_count": null,
      "outputs": [
        {
          "output_type": "display_data",
          "data": {
            "text/plain": [
              "<Figure size 500x500 with 1 Axes>"
            ],
            "image/png": "[encoded data removed]"
          },
          "metadata": {}
        }
      ]
    },
    {
      "cell_type": "code",
      "metadata": {
        "id": "8gKgNY92GJmA",
        "cellView": "form",
        "colab": {
          "base_uri": "https://localhost:8080/"
        },
        "outputId": "357314d7-7f1a-4f5c-f35a-7ffc79516952"
      },
      "source": [
        "# @title ### **Exercise: Why do you think this is called unsupervised learning?**\n",
        "Response = \"We don't set the relationships for the computer\" #@param {type:\"string\"}\n",
        "print(\"We are able to make obsevations about the data without ever using any sort of label.\")\n",
        "print(\"We can see that there are clusters of very similar samples.  \")\n",
        "print(\"We should suspect data points near each other are probably viruses \")\n",
        "print(\"from similar regions of the world, or that these viruses have similar biological properties.\")"
      ],
      "execution_count": null,
      "outputs": [
        {
          "output_type": "stream",
          "name": "stdout",
          "text": [
            "We are able to make obsevations about the data without ever using any sort of label.\n",
            "We can see that there are clusters of very similar samples.  \n",
            "We should suspect data points near each other are probably viruses \n",
            "from similar regions of the world, or that these viruses have similar biological properties.\n"
          ]
        }
      ]
    },
    {
      "cell_type": "markdown",
      "metadata": {
        "id": "ldo1k1FRHt1n"
      },
      "source": [
        "*Hint: Look at the hidden code. Did we ever use ```Y```?*"
      ]
    },
    {
      "cell_type": "markdown",
      "metadata": {
        "id": "B8VciL0LF01n"
      },
      "source": [
        "Just for fun, we are going to now color the data points on our PCA plot to see if points that are similar in PC space are from similar regions of the world. Run the cell below to do so."
      ]
    },
    {
      "cell_type": "code",
      "metadata": {
        "id": "drhEt1Bdgft4",
        "cellView": "form",
        "colab": {
          "base_uri": "https://localhost:8080/",
          "height": 482
        },
        "outputId": "3473e637-c0f3-44de-df3c-8b7f146b1834"
      },
      "source": [
        "#@title ### **Exercise: Color the data points by region**\n",
        "df['color'] = Y\n",
        "plt.figure(figsize=(5,5))\n",
        "sns.scatterplot(data=df, x='Principal Component 1', y='Principal Component 2', hue='color')"
      ],
      "execution_count": null,
      "outputs": [
        {
          "output_type": "execute_result",
          "data": {
            "text/plain": [
              "<Axes: xlabel='Principal Component 1', ylabel='Principal Component 2'>"
            ]
          },
          "metadata": {},
          "execution_count": 18
        },
        {
          "output_type": "display_data",
          "data": {
            "text/plain": [
              "<Figure size 500x500 with 1 Axes>"
            ],
            "image/png": "[encoded data removed]"
          },
          "metadata": {}
        }
      ]
    },
    {
      "cell_type": "code",
      "metadata": {
        "id": "Ca-QAE9cFRI7"
      },
      "source": [
        "# @title ### **Exercise: Based on your observations about the PCA plot, can you hypothesize why our classifier wasn't 100% accurate?**\n",
        "Hypothesis = \"not enough features\" #@param {type:\"string\"}"
      ],
      "execution_count": null,
      "outputs": []
    },
    {
      "cell_type": "markdown",
      "metadata": {
        "id": "DuJGGokXHxkF"
      },
      "source": [
        "# Wrapping things up"
      ]
    },
    {
      "cell_type": "markdown",
      "metadata": {
        "id": "8zTPn0z2H0Kr"
      },
      "source": [
        "**Amazing job!!**  What we went over today is normally taught in a sophomore level college course.\n",
        "\n",
        "<a href=\"https://imgflip.com/i/424k4k\"><img src=\"https://i.imgflip.com/424k4k.jpg\" title=\"made at imgflip.com\"/></a>\n",
        "\n",
        "To synthesize what we learned today, complete the following exercise.\n"
      ]
    },
    {
      "cell_type": "code",
      "metadata": {
        "id": "80I8WHgxItRg",
        "cellView": "form"
      },
      "source": [
        "#@title ### **Exercise: What other machine learning problems that we did in this course do you think would benefit from these advanced feature reduction techniques?**\n",
        "_1_ = \"\" #@param {type:\"string\"}\n",
        "_2_ = \"\" #@param {type:\"string\"}\n"
      ],
      "execution_count": null,
      "outputs": []
    }
  ]
}